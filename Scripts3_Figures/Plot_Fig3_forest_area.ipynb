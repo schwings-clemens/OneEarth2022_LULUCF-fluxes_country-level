{
 "cells": [
  {
   "cell_type": "code",
   "execution_count": null,
   "metadata": {},
   "outputs": [],
   "source": [
    "import os\n",
    "import sys\n",
    "import numpy as np\n",
    "import pandas as pd\n",
    "import xarray as xr\n",
    "import matplotlib.pyplot as plt\n"
   ]
  },
  {
   "cell_type": "code",
   "execution_count": null,
   "metadata": {},
   "outputs": [],
   "source": [
    "dir_BLUE = '/GCB2021/Data/Output_GCB2021/202109_GCB2021_run/run_v3_ForestArea_1991-2021/'\n",
    "dir_area = '/GCB2021_commentary/Data/forest_area/'\n",
    "dir_ctrs = '/Trendy/Data/data_ancillary/info_countries/'\n",
    "dir_fig  = '/GCB2021_commentary/Figures/'\n"
   ]
  },
  {
   "cell_type": "markdown",
   "metadata": {},
   "source": [
    "## Country definitions"
   ]
  },
  {
   "cell_type": "code",
   "execution_count": null,
   "metadata": {},
   "outputs": [],
   "source": [
    "#Read countries\n",
    "fname_cntrs = dir_ctrs + 'Country codes 3 letters.xlsx'\n",
    "data_cntrs  = pd.read_excel(fname_cntrs, sheet_name=0, header=None, index_col=0)\n",
    "\n",
    "#Define country list for EU27 + UK\n",
    "ctrs_EU = ['AUT', 'BEL', 'BGR', 'HRV', 'CYP', 'CZE', 'DNK', 'EST', 'FIN', 'FRA', 'DEU', 'GRC', 'HUN', 'IRL', 'ITA', 'LVA', 'LTU', 'LUX', 'MLT', 'NLD', 'POL', 'PRT', 'ROU', 'SVK', 'SVN', 'ESP', 'SWE', 'GBR']\n",
    "\n",
    "#Select countries for plotting\n",
    "countries_sel = ['USA', 'RUS', 'EU27_UK', 'CAN', 'CHN', 'BRA', 'IDN', 'COD']\n"
   ]
  },
  {
   "cell_type": "markdown",
   "metadata": {},
   "source": [
    "## BLUE forest areas"
   ]
  },
  {
   "cell_type": "code",
   "execution_count": null,
   "metadata": {},
   "outputs": [],
   "source": [
    "#Read BLUE forest area\n",
    "fname_prim = dir_area + 'BLUE_forest_area_primary_countries-ISOcode_vRemapArea_1991-2020.xlsx'\n",
    "fname_secd = dir_area + 'BLUE_forest_area_secondary_countries-ISOcode_vRemapArea_1991-2020.xlsx'\n",
    "data_prim_BLUE = pd.read_excel(fname_prim, header=0, index_col=0)\n",
    "data_secd_BLUE = pd.read_excel(fname_secd, header=0, index_col=0)\n",
    "\n",
    "#Add EU27&UK forest area\n",
    "data_prim_BLUE['EU27_UK'] = data_prim_BLUE[ctrs_EU].sum(axis=1)\n",
    "data_secd_BLUE['EU27_UK'] = data_secd_BLUE[ctrs_EU].sum(axis=1)\n",
    "\n",
    "#Convert to Mio ha\n",
    "data_prim_BLUE = data_prim_BLUE / 1e6 \n",
    "data_secd_BLUE = data_secd_BLUE / 1e6\n"
   ]
  },
  {
   "cell_type": "markdown",
   "metadata": {},
   "source": [
    "## FAO forest areas"
   ]
  },
  {
   "cell_type": "code",
   "execution_count": null,
   "metadata": {},
   "outputs": [],
   "source": [
    "#Read data\n",
    "fname_FAO = dir_area + 'FAO forest area.xlsx'\n",
    "data_FAO  = pd.read_excel(fname_FAO, header=0, index_col=0)\n",
    "\n",
    "#Replace name of EU countries by ISO names\n",
    "for ctr_short, ctr_long in data_cntrs.iterrows():\n",
    "    if ctr_long.values[0] in data_FAO.columns:\n",
    "        data_FAO = data_FAO.rename(columns={ctr_long.values[0]: ctr_short})\n",
    "        \n",
    "#Add EU27&UK forest area\n",
    "data_FAO['EU27_UK'] = data_FAO[ctrs_EU].sum(axis=1)\n",
    "\n",
    "#Convert to Mio ha\n",
    "data_FAO = data_FAO / 1e3\n",
    "\n",
    "#Calculate area of secondary forest\n",
    "data_FAO.loc['area secondary 2000'] = data_FAO.loc['area 2000'] - data_FAO.loc['area primary 2000']\n",
    "data_FAO.loc['area secondary 2015'] = data_FAO.loc['area 2015'] - data_FAO.loc['area primary 2015']\n"
   ]
  },
  {
   "cell_type": "markdown",
   "metadata": {},
   "source": [
    "## NGHGI forest areas"
   ]
  },
  {
   "cell_type": "code",
   "execution_count": null,
   "metadata": {},
   "outputs": [],
   "source": [
    "#Read data\n",
    "fname_NGHGI = dir_area + 'NGHGI forest area.xlsx'\n",
    "data_NGHGI  = pd.read_excel(fname_NGHGI, header=0, index_col=0)\n",
    "\n",
    "#Select area data\n",
    "data_NGHGI = data_NGHGI.iloc[0:3, :]\n",
    "\n",
    "#Convert to Mio ha\n",
    "data_NGHGI = data_NGHGI / 1e3\n"
   ]
  },
  {
   "cell_type": "markdown",
   "metadata": {},
   "source": [
    "## Non-intact forest areas"
   ]
  },
  {
   "cell_type": "code",
   "execution_count": null,
   "metadata": {},
   "outputs": [],
   "source": [
    "#Read data\n",
    "fname_HanPot = dir_area + 'HansenPotapov_forest_area_intact_non-intact_2013.xlsx'\n",
    "data_HanPot  = pd.read_excel(fname_HanPot, header=0, index_col=0)\n",
    "\n",
    "#Convert m2 to Mio ha\n",
    "data_HanPot = data_HanPot / 1e4 / 1e6\n",
    "\n",
    "#Add EU27&UK forest area\n",
    "data_HanPot['EU27_UK'] = data_HanPot[ctrs_EU].sum(axis=1)\n"
   ]
  },
  {
   "cell_type": "markdown",
   "metadata": {},
   "source": [
    "## Plot preparation"
   ]
  },
  {
   "cell_type": "code",
   "execution_count": null,
   "metadata": {},
   "outputs": [],
   "source": [
    "#Colors\n",
    "col_prim = 'forestgreen'\n",
    "col_sec  = 'limegreen'\n",
    "col_tot  = '#154406'\n",
    "\n",
    "#Width of bars\n",
    "wid = 0.175\n"
   ]
  },
  {
   "cell_type": "markdown",
   "metadata": {},
   "source": [
    "## Plot"
   ]
  },
  {
   "cell_type": "code",
   "execution_count": null,
   "metadata": {},
   "outputs": [],
   "source": [
    "#Create figure and add second axis\n",
    "fig, ax = plt.subplots(1, 1, figsize=(18 * len(countries_sel)/10, 5))\n",
    "\n",
    "#Loop over countries\n",
    "ctrs = []\n",
    "for i, country in enumerate(countries_sel):\n",
    "    \n",
    "    #Read data\n",
    "    BLUE_prim = data_prim_BLUE[country].loc[slice(2011, 2015)].mean()\n",
    "    BLUE_sec  = data_secd_BLUE[country].loc[slice(2011, 2015)].mean()\n",
    "    BLUE_tot  = BLUE_prim + BLUE_sec\n",
    "    NGHGI_man  = data_NGHGI[country]['forest managed area']\n",
    "    NGHGI_uman = data_NGHGI[country]['forest unmanaged area']\n",
    "    NGHGI_tot  = data_NGHGI[country]['total forest area']\n",
    "    FAO_prim = data_FAO[country]['area primary 2015']\n",
    "    FAO_sec  = data_FAO[country]['area secondary 2015']\n",
    "    FAO_tot  = FAO_prim + FAO_sec\n",
    "    HanPot_prim = data_HanPot[country]['intact']\n",
    "    HanPot_sec  = data_HanPot[country]['non-intact']\n",
    "    HanPot_tot  = HanPot_prim + HanPot_sec    \n",
    "    \n",
    "    #Define x-values\n",
    "    x1 = i + 0.2\n",
    "    x2 = i + 0.4\n",
    "    x3 = i + 0.6\n",
    "    x4 = i + 0.8\n",
    "    \n",
    "    #Plot Hansen/Potapov data\n",
    "    ax.bar(x1, HanPot_sec, width=wid, color=col_sec)\n",
    "    ax.bar(x1, HanPot_prim, bottom=HanPot_sec, width=wid, color=col_prim)    \n",
    "    \n",
    "    \n",
    "    #Plot UNFCCC data\n",
    "    if np.isnan(NGHGI_man) or np.isnan(NGHGI_uman):\n",
    "        p1 = ax.bar(x2, NGHGI_tot, width=wid, color=col_tot)\n",
    "    else:\n",
    "        p2 = ax.bar(x2, NGHGI_man, width=wid, color=col_sec)\n",
    "        p3 = ax.bar(x2, NGHGI_uman, bottom=NGHGI_man, width=wid, color=col_prim)\n",
    "    \n",
    "    #Plot FAO data\n",
    "    ax.bar(x3, FAO_sec, width=wid, color=col_sec)\n",
    "    ax.bar(x3, FAO_prim, bottom=FAO_sec, width=wid, color=col_prim)\n",
    "    \n",
    "    #Plot BLUE data\n",
    "    ax.bar(x4, BLUE_sec, width=wid, color=col_sec)\n",
    "    ax.bar(x4, BLUE_prim, bottom=BLUE_sec, width=wid, color=col_prim)\n",
    "\n",
    "    \n",
    "    #Add hatching for forest area affected by disturbance (according to Canada's UNFCCC reports)\n",
    "    if country=='CAN':\n",
    "        for_disturbed = 55\n",
    "        ax.bar(x2, for_disturbed, bottom=NGHGI_man-for_disturbed, width=wid, facecolor='none', linewidth=0, edgecolor='forestgreen', hatch='xxx')\n",
    "        \n",
    "    #Make stripes in background\n",
    "    if np.mod(i, 2)==0:\n",
    "        ax.axvspan(i, i + 1, facecolor='black', alpha=0.05)\n",
    "            \n",
    "    #Write names of data\n",
    "    if i==0:\n",
    "        ax.text(x1, 20, 'Han&Pot', ha='center', va='bottom', color='w', rotation=90, fontsize=13)\n",
    "        ax.text(x2, 20, 'UNFCCC', ha='center', va='bottom', color='w', rotation=90, fontsize=13)\n",
    "        ax.text(x3, 20, 'FAO',   ha='center', va='bottom', color='w', rotation=90, fontsize=13)\n",
    "        ax.text(x4, 20, 'BLUE', ha='center', va='bottom', color='w', rotation=90, fontsize=13)\n",
    "\n",
    "            \n",
    "    #Define country names\n",
    "    if country=='USA':        ctr_name = country\n",
    "    elif country=='RUS':      ctr_name = 'Russia'\n",
    "    elif country=='COD':      ctr_name = 'DR Congo'\n",
    "    elif country=='TZA':      ctr_name = 'Tanzania'\n",
    "    elif country=='CAF':      ctr_name = 'Cent. Afr. Rep.'\n",
    "    elif country=='EU27_UK':  ctr_name = 'EU27&UK'\n",
    "    else:                     ctr_name = data_cntrs.loc[country].item()\n",
    "    ctrs.append(ctr_name)\n",
    "    \n",
    "#Set x-ticks and x-tick labels\n",
    "ax.set_xticks(np.arange(0.5, len(ctrs)))\n",
    "ax.set_xticklabels(ctrs, rotation=0, ha='center', fontsize=14)\n",
    "\n",
    "#Set limits and y-label\n",
    "ax.set_xlim([0, len(ctrs)])\n",
    "ax.set_ylabel('Forest area / $10^6$ ha', fontsize=20, labelpad=15)    \n",
    "\n",
    "#Set xticks and size of ticks\n",
    "ax.tick_params(axis='y', labelcolor='k')\n",
    "ax.tick_params(labelsize=15)\n",
    "ax.tick_params(axis='x', which='major', pad=10)\n",
    "ax.tick_params(axis=\"x\", which=\"both\", bottom=False, top=False)\n",
    "\n",
    "#Legend\n",
    "ax.legend([p2[0], p3[0], p1[0]], ['managed', 'unmanaged', 'total'], fontsize=18, frameon = False, loc=8, ncol=3, bbox_to_anchor=(0.5, -0.38))\n",
    "\n",
    "#Save figure\n",
    "fig.savefig(dir_fig + 'Fig3_forest_areas.png', dpi=300, bbox_inches='tight')\n",
    "fig.savefig(dir_fig + 'Fig3_forest_areas.pdf', bbox_inches='tight')\n"
   ]
  },
  {
   "cell_type": "code",
   "execution_count": null,
   "metadata": {},
   "outputs": [],
   "source": []
  }
 ],
 "metadata": {
  "kernelspec": {
   "display_name": "Clemens Python3.10",
   "language": "python",
   "name": "my-kernel"
  },
  "language_info": {
   "codemirror_mode": {
    "name": "ipython",
    "version": 3
   },
   "file_extension": ".py",
   "mimetype": "text/x-python",
   "name": "python",
   "nbconvert_exporter": "python",
   "pygments_lexer": "ipython3",
   "version": "3.10.4"
  }
 },
 "nbformat": 4,
 "nbformat_minor": 4
}
