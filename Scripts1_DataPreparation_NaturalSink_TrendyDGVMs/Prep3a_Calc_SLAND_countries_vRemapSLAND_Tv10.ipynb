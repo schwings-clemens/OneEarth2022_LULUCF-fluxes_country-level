{
 "cells": [
  {
   "cell_type": "code",
   "execution_count": null,
   "metadata": {},
   "outputs": [],
   "source": [
    "import numpy as np\n",
    "import xarray as xr\n",
    "import pandas as pd\n",
    "import os\n",
    "import sys\n",
    "import matplotlib.pyplot as plt\n"
   ]
  },
  {
   "cell_type": "code",
   "execution_count": null,
   "metadata": {},
   "outputs": [],
   "source": [
    "dir_SLAND = '/Trendy/Data/SLAND_Trendy-v10_S2_LatLon/'\n",
    "dir_ctrs  = '/Trendy/Data/data_ancillary/info_countries/'\n",
    "dir_out   = '/Trendy/Data/SLAND_Trendy-v10_S2_countries/'\n"
   ]
  },
  {
   "cell_type": "markdown",
   "metadata": {},
   "source": [
    "## Calculation"
   ]
  },
  {
   "cell_type": "code",
   "execution_count": null,
   "metadata": {
    "scrolled": true,
    "tags": []
   },
   "outputs": [],
   "source": [
    "models = ['CABLE-POP', 'CLASSIC', 'CLASSIC-N', 'CLM5.0', 'DLEM', 'IBIS', 'ISAM', 'ISBA-CTRIP', 'JSBACH', 'JULES-ES-1.1',\n",
    "          'LPJ-GUESS', 'LPJwsl', 'LPX-Bern', 'OCN', 'ORCHIDEE', 'ORCHIDEEv3', 'SDGVM', 'VISIT', 'YIBs']\n",
    "\n",
    "gridsize = '720x1440'\n",
    "\n",
    "#Read ISO codes for countries, IPCC countries, and conversions between ISO alpha-3 codes from IPCC and ISO numeric\n",
    "fname_ctrs_ISO   = dir_ctrs + 'wrld_cntrs_BLUE_TN_upd.nc'\n",
    "fname_IPCC_codes = dir_ctrs + 'IPCC_regions.xlsx'\n",
    "fname_ISO_num    = dir_ctrs + 'iso_codes_alpha_numeric.xlsx'\n",
    "data_ctrs_ISO   = xr.open_dataset(fname_ctrs_ISO)\n",
    "data_IPCC_codes = pd.read_excel(fname_IPCC_codes, sheet_name='region_classification', header=0, usecols=[0, 1, 3])\n",
    "data_alph_num   = pd.read_excel(fname_ISO_num, header=0)\n",
    "\n",
    "#Create dicts for storing data\n",
    "SLAND_ctrs = dict()\n",
    "\n",
    "#Define output file name\n",
    "fname_out = dir_out + 'SLAND_S2_DGVMS_countries_ISOcode_vRemapSLAND.xlsx'\n",
    "if os.path.exists(fname_out): os.remove(fname_out)\n",
    "\n",
    "#Create xlsx-file (it will be filled at end of loop with country data from every model)\n",
    "with pd.ExcelWriter(fname_out) as writer:\n",
    "    \n",
    "    #Loop over models\n",
    "    for model in models:\n",
    "        \n",
    "        print(model)\n",
    "        \n",
    "        #Get file name for SLAND\n",
    "        fnames = [file for file in os.listdir(dir_SLAND) if (model + '_' in file) and (gridsize in file) and ('SLAND_NBP' in file) and ('NBPPFT' not in file)]\n",
    "        if len(fnames)!=1:  sys.exit('Filename not unique')\n",
    "            \n",
    "        #Read SLAND data\n",
    "        fname = dir_SLAND + fnames[0]\n",
    "        data_SLAND = xr.open_dataset(fname)\n",
    "\n",
    "        #Get lat and lon names\n",
    "        if 'latitude' in data_SLAND.dims:  lat_name, lon_name = 'latitude', 'longitude'\n",
    "        else:                              lat_name, lon_name = 'lat', 'lon'\n",
    "        \n",
    "        #Check that model grid and country grid agree\n",
    "        check_lat = np.max(np.abs(data_SLAND[lat_name].values - data_ctrs_ISO.lat.values))\n",
    "        check_lon = np.max(np.abs(data_SLAND[lon_name].values - data_ctrs_ISO.lon.values))\n",
    "        if check_lat>0.01:  sys.exit('Latitudes do not agree')\n",
    "        if check_lon>0.01:  sys.exit('Longitudes do not agree')\n",
    "            \n",
    "        #Re-index if there are small deviations in lat and lon\n",
    "        if (check_lat!=0) or (check_lon!=0):\n",
    "            data_SLAND = data_SLAND.reindex({lat_name: data_ctrs_ISO['lat'], lon_name: data_ctrs_ISO['lon']}, method='nearest')       \n",
    "            \n",
    "        #Loop over all country codes\n",
    "        for i, iso_alpha3 in enumerate(data_IPCC_codes['ISO']):\n",
    "            \n",
    "            if np.mod(i, 50)==0:\n",
    "                print('  -run ' + str(i+1) + ' of ' + str(len(data_IPCC_codes['ISO'])))\n",
    "            \n",
    "            #Get numbeic ISO code of country\n",
    "            iso_numeric = data_alph_num['Numeric'][data_alph_num['Alpha-3 code']==iso_alpha3].values[0]\n",
    "\n",
    "            #Select country in country mask\n",
    "            mask_ISO = data_ctrs_ISO.ISOcode==iso_numeric\n",
    "            \n",
    "            #Get SLAND sum in selected country\n",
    "            data_sel = data_SLAND.where(mask_ISO).sum(('lat', 'lon'))\n",
    "            \n",
    "            #Convert to Tg C/year\n",
    "            data_sel = 1000 * data_sel\n",
    "            \n",
    "            #Save values in dict\n",
    "            SLAND_ctrs[iso_alpha3] = data_sel.SLAND.values\n",
    "\n",
    "        #Special cases for certain IPCC countries\n",
    "        SLAND_ctrs['SXM'] = SLAND_ctrs['MAF']                                          # Saint Martin is French part of island with Sint Maarten (Dutch part) -> same values are counted for both\n",
    "        SLAND_ctrs['ANT'] = SLAND_ctrs['BES'] + SLAND_ctrs['CUW'] + SLAND_ctrs['SXM']  # Netherlands Antilles (Bonaire, Saint Eustatius & Saba + Curacao + Sint Maarten)\n",
    "  \n",
    "        #Convert data to data frame (and sort by country name)\n",
    "        SLAND_ctrs_df = pd.DataFrame(SLAND_ctrs, index=data_SLAND.time.dt.year)\n",
    "        SLAND_ctrs_df = SLAND_ctrs_df.reindex(sorted(SLAND_ctrs_df.columns), axis=1)\n",
    "        \n",
    "        #Adde units in first cell\n",
    "        SLAND_ctrs_df = SLAND_ctrs_df.rename_axis('unit: TG C/year')\n",
    "        \n",
    "        #Create sheet in xlsx for every model and store country data\n",
    "        SLAND_ctrs_df.to_excel(writer, sheet_name=model + '_SLAND_IPCC_ctrs', index=True, header=True, float_format='%.6f')\n"
   ]
  },
  {
   "cell_type": "code",
   "execution_count": null,
   "metadata": {},
   "outputs": [],
   "source": []
  }
 ],
 "metadata": {
  "kernelspec": {
   "display_name": "Python 3 (based on the module python3/2022.01)",
   "language": "python",
   "name": "python3_2022_01"
  },
  "language_info": {
   "codemirror_mode": {
    "name": "ipython",
    "version": 3
   },
   "file_extension": ".py",
   "mimetype": "text/x-python",
   "name": "python",
   "nbconvert_exporter": "python",
   "pygments_lexer": "ipython3",
   "version": "3.9.9"
  }
 },
 "nbformat": 4,
 "nbformat_minor": 4
}
