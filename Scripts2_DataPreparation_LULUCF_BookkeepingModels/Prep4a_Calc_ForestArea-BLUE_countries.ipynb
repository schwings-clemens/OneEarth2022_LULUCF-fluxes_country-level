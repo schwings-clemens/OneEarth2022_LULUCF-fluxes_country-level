{
 "cells": [
  {
   "cell_type": "code",
   "execution_count": null,
   "metadata": {},
   "outputs": [],
   "source": [
    "import numpy as np\n",
    "import xarray as xr\n",
    "import pandas as pd\n",
    "import os\n",
    "import sys\n",
    "import matplotlib.pyplot as plt\n"
   ]
  },
  {
   "cell_type": "code",
   "execution_count": null,
   "metadata": {},
   "outputs": [],
   "source": [
    "dir_area  = '/Data/forest_area/'\n",
    "dir_ctrs  = '/Data/data_ancillary/info_countries/'\n",
    "dir_grid  = '/Data/ELUC_countries/'\n",
    "dir_tmp   = '/Data/tmp/'\n"
   ]
  },
  {
   "cell_type": "markdown",
   "metadata": {},
   "source": [
    "## Calculation"
   ]
  },
  {
   "cell_type": "code",
   "execution_count": null,
   "metadata": {},
   "outputs": [],
   "source": [
    "#Select time\n",
    "time_sta = '1991'\n",
    "time_end = '2020'\n",
    "\n",
    "#Read ISO codes for countries, IPCC countries, and conversions between ISO alpha-3 codes from IPCC and ISO numeric\n",
    "fname_ctrs_ISO   = dir_ctrs + 'wrld_cntrs_BLUE_TN_upd.nc'\n",
    "fname_IPCC_codes = dir_ctrs + 'IPCC_regions.xlsx'\n",
    "fname_ISO_num    = dir_ctrs + 'iso_codes_alpha_numeric.xlsx'\n",
    "data_IPCC_codes = pd.read_excel(fname_IPCC_codes, sheet_name='region_classification', header=0, usecols=[0, 1, 3])\n",
    "data_alph_num   = pd.read_excel(fname_ISO_num, header=0)\n",
    "\n",
    "#Define sources, sinks, and net\n",
    "selections = ['primary', 'secondary']\n",
    "\n",
    "#Loop over sources, sinks, and net\n",
    "for selection in selections:\n",
    "   \n",
    "    #Define output file name\n",
    "    fname_out = dir_area + 'BLUE_forest_area_' + selection + '_countries-ISOcode_vRemapArea_' + time_sta + '-' + time_end + '.xlsx'\n",
    "    if os.path.exists(fname_out): os.remove(fname_out)\n",
    "\n",
    "    #Create dicts for storing data\n",
    "    AREA_ctrs = dict()\n",
    "\n",
    "    #Create xlsx-file (it will be filled at end of loop with country data from every model)\n",
    "    with pd.ExcelWriter(fname_out) as writer:\n",
    "\n",
    "        #Read forest area data\n",
    "        fname = dir_area + 'BLUE_forest_area_' + selection + '_1991-2020.nc'\n",
    "        data_area = xr.open_dataset(fname)\n",
    "\n",
    "        #Select time\n",
    "        data_area = data_area.sel(time=slice(time_sta, time_end))\n",
    "\n",
    "        #Read country data\n",
    "        data_ctrs_ISO = xr.open_dataset(fname_ctrs_ISO)\n",
    "\n",
    "        #Get lat and lon names\n",
    "        if 'latitude' in data_area.dims:  lat_name, lon_name = 'latitude', 'longitude'\n",
    "        else:                             lat_name, lon_name = 'lat', 'lon'\n",
    "\n",
    "        #Check that model grid and country grid agree\n",
    "        check_lat = np.max(np.abs(data_area[lat_name].values - data_ctrs_ISO[lat_name].values))\n",
    "        check_lon = np.max(np.abs(data_area[lon_name].values - data_ctrs_ISO[lon_name].values))\n",
    "        if check_lat>0.01:  sys.exit('Latitudes do not agree')\n",
    "        if check_lon>0.01:  sys.exit('Longitudes do not agree')\n",
    "\n",
    "        #Re-index if there are small deviations in lat and lon\n",
    "        if (check_lat!=0) or (check_lon!=0):\n",
    "            print('Country data are re-indexed for ' + model)\n",
    "            data_ctrs_ISO = data_ctrs_ISO.reindex({lat_name: data_area[lat_name], lon_name: data_area[lon_name]}, method='nearest')       \n",
    "\n",
    "        #Loop over all country codes\n",
    "        for i, iso_alpha3 in enumerate(data_IPCC_codes['ISO']):\n",
    "\n",
    "            if np.mod(i,20)==0:\n",
    "                print('  -run ' + str(i+1) + ' of ' + str(len(data_IPCC_codes['ISO'])))\n",
    "\n",
    "            #Get numbeic ISO code of country\n",
    "            iso_numeric = data_alph_num['Numeric'][data_alph_num['Alpha-3 code']==iso_alpha3].values[0]\n",
    "\n",
    "            #Select country in country mask\n",
    "            mask_ISO = data_ctrs_ISO.ISOcode==iso_numeric\n",
    "\n",
    "            #Get forest area sum in selected country\n",
    "            data_sel = data_area.where(mask_ISO).sum((lat_name, lon_name))\n",
    "\n",
    "            #Save values in dict\n",
    "            AREA_ctrs[iso_alpha3] = data_sel.forest_area.values\n",
    "\n",
    "        #Convert data to data frame (and sort by country name)\n",
    "        AREA_ctrs_df = pd.DataFrame(AREA_ctrs, index=data_area.time)\n",
    "        AREA_ctrs_df = AREA_ctrs_df.reindex(sorted(AREA_ctrs_df.columns), axis=1)\n",
    "\n",
    "        #Adde units in first cell\n",
    "        AREA_ctrs_df = AREA_ctrs_df.rename_axis('unit: Tg C/year')\n",
    "\n",
    "        #Create sheet in xlsx for every model and store country data\n",
    "        AREA_ctrs_df.to_excel(writer, sheet_name=selection + '_forest', index=True, header=True, float_format='%.6f')\n"
   ]
  },
  {
   "cell_type": "code",
   "execution_count": null,
   "metadata": {},
   "outputs": [],
   "source": []
  }
 ],
 "metadata": {
  "kernelspec": {
   "display_name": "Python 3 (based on the module python3/2022.01)",
   "language": "python",
   "name": "python3_2022_01"
  },
  "language_info": {
   "codemirror_mode": {
    "name": "ipython",
    "version": 3
   },
   "file_extension": ".py",
   "mimetype": "text/x-python",
   "name": "python",
   "nbconvert_exporter": "python",
   "pygments_lexer": "ipython3",
   "version": "3.9.9"
  }
 },
 "nbformat": 4,
 "nbformat_minor": 4
}
