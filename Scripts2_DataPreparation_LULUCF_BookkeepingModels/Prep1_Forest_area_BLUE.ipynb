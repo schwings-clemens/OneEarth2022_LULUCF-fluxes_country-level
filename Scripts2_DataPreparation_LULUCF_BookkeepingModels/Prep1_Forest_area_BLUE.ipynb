{
 "cells": [
  {
   "cell_type": "code",
   "execution_count": null,
   "metadata": {},
   "outputs": [],
   "source": [
    "import numpy as np\n",
    "import xarray as xr\n",
    "import pandas as pd\n",
    "import os\n",
    "import sys\n",
    "import matplotlib.pyplot as plt\n"
   ]
  },
  {
   "cell_type": "code",
   "execution_count": null,
   "metadata": {},
   "outputs": [],
   "source": [
    "dir_BLUE1    = '/Data/Output_GCB2021/202109_GCB2021_run/run_v3_ForestArea_1991-2021/'\n",
    "dir_BLUE2    = '/Data/Output_GCB2021/202208_GCB2021_run/run_v4_ForestArea_1700-1730/'\n",
    "dir_grids    = '/Data/grids/'\n",
    "dir_for_area = '/Data/forest_area/'\n",
    "dir_for_mask = '/Data/forest_masks/'\n",
    "    "
   ]
  },
  {
   "cell_type": "markdown",
   "metadata": {},
   "source": [
    "## Extract forest area from BLUE in 1991-2020"
   ]
  },
  {
   "cell_type": "code",
   "execution_count": null,
   "metadata": {},
   "outputs": [],
   "source": [
    "fname = dir_BLUE1 + '202109_GCB2021_run_v3_ForestArea_1991-2021__AreasPerPFT_natural.nc'\n",
    "data = xr.open_dataset(fname)\n",
    "\n",
    "#Select PFTs 1-6 for primary (virgin) and secondary forest\n",
    "vars_vir = [var for var in data.data_vars if 'area' in var and var[-1]=='v' and int(var[-3])<=6 and len(var)<11]\n",
    "vars_sec = [var for var in data.data_vars if 'area' in var and var[-1]=='s' and int(var[-3])<=6 and len(var)<11]\n",
    "\n",
    "#Calculate area of primary forest\n",
    "data_vir = data[vars_vir].to_array(dim='area')\n",
    "data_vir = data_vir.sum(dim='area')\n",
    "data_vir = data_vir.to_dataset(name='forest_area')\n",
    "data_vir.forest_area.attrs['units'] = 'ha'\n",
    "data_vir.forest_area.attrs['long_name'] = 'Area of primary forest'\n",
    "\n",
    "#Calculate area of secondary forest\n",
    "data_sec = data[vars_sec].to_array(dim='area')\n",
    "data_sec = data_sec.sum(dim='area')\n",
    "data_sec = data_sec.to_dataset(name='forest_area')\n",
    "data_sec.forest_area.attrs['units'] = 'ha'\n",
    "data_sec.forest_area.attrs['long_name'] = 'Area of primary forest'\n",
    "\n",
    "#Save in file\n",
    "fname_prim = dir_for_area + 'BLUE_forest_area_primary_1991-2020.nc'\n",
    "fname_sec  = dir_for_area + 'BLUE_forest_area_secondary_1991-2020.nc'\n",
    "data_vir.to_netcdf(fname_prim)\n",
    "data_sec.to_netcdf(fname_sec)\n"
   ]
  },
  {
   "cell_type": "markdown",
   "metadata": {},
   "source": [
    "## Extract forest area from BLUE in 1700-1729"
   ]
  },
  {
   "cell_type": "code",
   "execution_count": null,
   "metadata": {},
   "outputs": [],
   "source": [
    "fname = dir_BLUE2 + '202208_GCB2021_run_v4_ForestArea_1700-1730__AreasPerPFT_natural.nc'\n",
    "data = xr.open_dataset(fname)\n",
    "\n",
    "#Select PFTs 1-6 for primary (virgin) and secondary forest\n",
    "vars_vir = [var for var in data.data_vars if 'area' in var and var[-1]=='v' and int(var[-3])<=6 and len(var)<11]\n",
    "vars_sec = [var for var in data.data_vars if 'area' in var and var[-1]=='s' and int(var[-3])<=6 and len(var)<11]\n",
    "\n",
    "#Calculate area of primary forest\n",
    "data_vir = data[vars_vir].to_array(dim='area')\n",
    "data_vir = data_vir.sum(dim='area')\n",
    "data_vir = data_vir.to_dataset(name='forest_area')\n",
    "data_vir.forest_area.attrs['units'] = 'ha'\n",
    "data_vir.forest_area.attrs['long_name'] = 'Area of primary forest'\n",
    "\n",
    "#Calculate area of secondary forest\n",
    "data_sec = data[vars_sec].to_array(dim='area')\n",
    "data_sec = data_sec.sum(dim='area')\n",
    "data_sec = data_sec.to_dataset(name='forest_area')\n",
    "data_sec.forest_area.attrs['units'] = 'ha'\n",
    "data_sec.forest_area.attrs['long_name'] = 'Area of primary forest'\n",
    "\n",
    "#Save in file\n",
    "fname_prim = dir_for_area + 'BLUE_forest_area_primary_1701-1730.nc'\n",
    "fname_sec  = dir_for_area + 'BLUE_forest_area_secondary_1701-1730.nc'\n",
    "data_vir.to_netcdf(fname_prim)\n",
    "data_sec.to_netcdf(fname_sec)\n"
   ]
  },
  {
   "cell_type": "markdown",
   "metadata": {},
   "source": [
    "## Calculate average total forest fraction and regrid to forest mask"
   ]
  },
  {
   "cell_type": "code",
   "execution_count": null,
   "metadata": {},
   "outputs": [],
   "source": [
    "#Read data\n",
    "fname_prim_PD = dir_for_area + 'BLUE_forest_area_primary_1991-2020.nc'\n",
    "fname_sec_PD  = dir_for_area + 'BLUE_forest_area_secondary_1991-2020.nc'\n",
    "fname_prim_PI = dir_for_area + 'BLUE_forest_area_primary_1701-1730.nc'\n",
    "fname_sec_PI  = dir_for_area + 'BLUE_forest_area_secondary_1701-1730.nc'\n",
    "data_prim_PD = xr.open_dataset(fname_prim_PD)\n",
    "data_sec_PD  = xr.open_dataset(fname_sec_PD)\n",
    "data_prim_PI = xr.open_dataset(fname_prim_PI)\n",
    "data_sec_PI  = xr.open_dataset(fname_sec_PI)\n",
    "\n",
    "#Get cell area\n",
    "fname = dir_BLUE1 + '202109_GCB2021_run_v3_ForestArea_1991-2021__AreasPerPFT_natural.nc'\n",
    "data = xr.open_dataset(fname)\n",
    "cell_area = data.cell_area\n",
    "\n",
    "#Calculate total forest area and average over time\n",
    "data_PI = data_prim_PI + data_sec_PI\n",
    "data_PD = data_prim_PD + data_sec_PD\n",
    "data_PI = data_PI.mean('time')\n",
    "data_PD = data_PD.mean('time')\n",
    "\n",
    "#Calculate forest fraction\n",
    "data_PI = data_PI.forest_area / cell_area\n",
    "data_PD = data_PD.forest_area / cell_area\n",
    "data_PI = data_PI.to_dataset(name='forest_fraction')\n",
    "data_PD = data_PD.to_dataset(name='forest_fraction')\n",
    "\n",
    "#Save in file\n",
    "fname_PD = dir_for_area + 'BLUE_forest_fraction_total_average-1991-2020.nc'\n",
    "fname_PI = dir_for_area + 'BLUE_forest_fraction_total_average-1701-1730.nc'\n",
    "if os.path.exists(fname_PD):  os.remove(fname_PD)\n",
    "if os.path.exists(fname_PI):  os.remove(fname_PI)\n",
    "data_PD.to_netcdf(fname_PD)\n",
    "data_PI.to_netcdf(fname_PI)\n",
    "\n",
    "#Define file names for regridding\n",
    "file_grid = dir_grids + 'grid_xy_360x720-ForestMask'\n",
    "fname_PD_reg = dir_for_area + 'BLUE_forest_fraction_total_average-1991-2020_regrid360x720-ForestMask.nc'\n",
    "fname_PI_reg = dir_for_area + 'BLUE_forest_fraction_total_average-1701-1730_regrid360x720-ForestMask.nc'\n",
    "if os.path.exists(fname_PD_reg):  os.remove(fname_PD_reg)\n",
    "if os.path.exists(fname_PI_reg):  os.remove(fname_PI_reg)\n",
    "\n",
    "#Regrid data\n",
    "os.system('cdo remapcon,' + file_grid + ' ' + fname_PD + ' ' + fname_PD_reg)\n",
    "os.system('cdo remapcon,' + file_grid + ' ' + fname_PI + ' ' + fname_PI_reg)\n"
   ]
  },
  {
   "cell_type": "markdown",
   "metadata": {},
   "source": [
    "## Calculate mask for weighting SLAND of DGVMs"
   ]
  },
  {
   "cell_type": "code",
   "execution_count": null,
   "metadata": {},
   "outputs": [],
   "source": [
    "#Define maximum values for weighting factor\n",
    "max_values = [1, 2, 10, 50, 100]\n",
    "\n",
    "#Read forest fraction\n",
    "data_PD_reg = xr.open_dataset(fname_PD_reg)\n",
    "data_PI_reg = xr.open_dataset(fname_PI_reg)\n",
    "\n",
    "#Calculate weighting factor\n",
    "data_frac = data_PD_reg.forest_fraction / data_PI_reg.forest_fraction\n",
    "\n",
    "#Only allow weighting factors larger than 1 for land grid points with at least 0.1% forest cover\n",
    "data_frac = xr.where(data_PI_reg.forest_fraction>0.001, data_frac, 1)\n",
    "data_frac = xr.where(data_PD_reg.forest_fraction!=0, data_frac, 0)\n",
    "\n",
    "#Replace NaNs by 0\n",
    "data_frac = data_frac.fillna(0)\n",
    "\n",
    "#Convert to data set\n",
    "data_frac = data_frac.to_dataset(name='w_FF')\n",
    "    \n",
    "#Save weight in file\n",
    "fname_weight = dir_for_mask + 'Weights_ForestFraction_BLUE_regrid360x720-ForestMask.nc'\n",
    "if os.path.exists(fname_weight):  os.remove(fname_weight)\n",
    "data_frac.to_netcdf(fname_weight)\n"
   ]
  },
  {
   "cell_type": "code",
   "execution_count": null,
   "metadata": {},
   "outputs": [],
   "source": []
  }
 ],
 "metadata": {
  "kernelspec": {
   "display_name": "Python 3 (based on the module python3/2022.01)",
   "language": "python",
   "name": "python3_2022_01"
  },
  "language_info": {
   "codemirror_mode": {
    "name": "ipython",
    "version": 3
   },
   "file_extension": ".py",
   "mimetype": "text/x-python",
   "name": "python",
   "nbconvert_exporter": "python",
   "pygments_lexer": "ipython3",
   "version": "3.9.9"
  }
 },
 "nbformat": 4,
 "nbformat_minor": 4
}
